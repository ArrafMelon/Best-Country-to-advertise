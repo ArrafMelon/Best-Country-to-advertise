{
 "cells": [
  {
   "cell_type": "markdown",
   "id": "382bc57a",
   "metadata": {},
   "source": [
    "# Finding the Best Markets to Advertise In\n",
    "We will assume that we are working for an e-learning company who specialize in courses on programming. We will analyze data to find which markets are the best to advertise our service in.\n",
    "\n",
    "The company we represent focuses on domains such as web and mobile developement, game development, data science etc."
   ]
  },
  {
   "cell_type": "code",
   "execution_count": 1,
   "id": "28e141c7",
   "metadata": {},
   "outputs": [],
   "source": [
    "## imports\n",
    "import pandas as pd\n",
    "import numpy as np\n",
    "import matplotlib.pyplot as plt\n",
    "import seaborn as sns\n",
    "\n",
    "%matplotlib inline"
   ]
  },
  {
   "cell_type": "code",
   "execution_count": 2,
   "id": "911560c4",
   "metadata": {},
   "outputs": [
    {
     "name": "stderr",
     "output_type": "stream",
     "text": [
      "C:\\Users\\araf7\\anaconda3\\lib\\site-packages\\IPython\\core\\interactiveshell.py:3444: DtypeWarning: Columns (17,62) have mixed types.Specify dtype option on import or set low_memory=False.\n",
      "  exec(code_obj, self.user_global_ns, self.user_ns)\n"
     ]
    }
   ],
   "source": [
    "## read in dataset\n",
    "advertisement = pd.read_csv(\"2017-fCC-New-Coders-Survey-Data.csv\")"
   ]
  },
  {
   "cell_type": "code",
   "execution_count": 3,
   "id": "cf6774ea",
   "metadata": {},
   "outputs": [
    {
     "name": "stdout",
     "output_type": "stream",
     "text": [
      "<class 'pandas.core.frame.DataFrame'>\n",
      "RangeIndex: 18175 entries, 0 to 18174\n",
      "Columns: 136 entries, Age to YouTubeTheNewBoston\n",
      "dtypes: float64(105), object(31)\n",
      "memory usage: 18.9+ MB\n"
     ]
    }
   ],
   "source": [
    "advertisement.info()"
   ]
  },
  {
   "cell_type": "code",
   "execution_count": 4,
   "id": "4eb58d06",
   "metadata": {},
   "outputs": [
    {
     "data": {
      "text/plain": [
       "(18175, 136)"
      ]
     },
     "execution_count": 4,
     "metadata": {},
     "output_type": "execute_result"
    }
   ],
   "source": [
    "advertisement.shape"
   ]
  },
  {
   "cell_type": "code",
   "execution_count": 5,
   "id": "2f0ee8d7",
   "metadata": {},
   "outputs": [
    {
     "data": {
      "text/html": [
       "<div>\n",
       "<style scoped>\n",
       "    .dataframe tbody tr th:only-of-type {\n",
       "        vertical-align: middle;\n",
       "    }\n",
       "\n",
       "    .dataframe tbody tr th {\n",
       "        vertical-align: top;\n",
       "    }\n",
       "\n",
       "    .dataframe thead th {\n",
       "        text-align: right;\n",
       "    }\n",
       "</style>\n",
       "<table border=\"1\" class=\"dataframe\">\n",
       "  <thead>\n",
       "    <tr style=\"text-align: right;\">\n",
       "      <th></th>\n",
       "      <th>Age</th>\n",
       "      <th>AttendedBootcamp</th>\n",
       "      <th>BootcampFinish</th>\n",
       "      <th>BootcampLoanYesNo</th>\n",
       "      <th>BootcampName</th>\n",
       "      <th>BootcampRecommend</th>\n",
       "      <th>ChildrenNumber</th>\n",
       "      <th>CityPopulation</th>\n",
       "      <th>CodeEventConferences</th>\n",
       "      <th>CodeEventDjangoGirls</th>\n",
       "      <th>...</th>\n",
       "      <th>YouTubeFCC</th>\n",
       "      <th>YouTubeFunFunFunction</th>\n",
       "      <th>YouTubeGoogleDev</th>\n",
       "      <th>YouTubeLearnCode</th>\n",
       "      <th>YouTubeLevelUpTuts</th>\n",
       "      <th>YouTubeMIT</th>\n",
       "      <th>YouTubeMozillaHacks</th>\n",
       "      <th>YouTubeOther</th>\n",
       "      <th>YouTubeSimplilearn</th>\n",
       "      <th>YouTubeTheNewBoston</th>\n",
       "    </tr>\n",
       "  </thead>\n",
       "  <tbody>\n",
       "    <tr>\n",
       "      <th>0</th>\n",
       "      <td>27.0</td>\n",
       "      <td>0.0</td>\n",
       "      <td>NaN</td>\n",
       "      <td>NaN</td>\n",
       "      <td>NaN</td>\n",
       "      <td>NaN</td>\n",
       "      <td>NaN</td>\n",
       "      <td>more than 1 million</td>\n",
       "      <td>NaN</td>\n",
       "      <td>NaN</td>\n",
       "      <td>...</td>\n",
       "      <td>NaN</td>\n",
       "      <td>NaN</td>\n",
       "      <td>NaN</td>\n",
       "      <td>NaN</td>\n",
       "      <td>NaN</td>\n",
       "      <td>NaN</td>\n",
       "      <td>NaN</td>\n",
       "      <td>NaN</td>\n",
       "      <td>NaN</td>\n",
       "      <td>NaN</td>\n",
       "    </tr>\n",
       "    <tr>\n",
       "      <th>1</th>\n",
       "      <td>34.0</td>\n",
       "      <td>0.0</td>\n",
       "      <td>NaN</td>\n",
       "      <td>NaN</td>\n",
       "      <td>NaN</td>\n",
       "      <td>NaN</td>\n",
       "      <td>NaN</td>\n",
       "      <td>less than 100,000</td>\n",
       "      <td>NaN</td>\n",
       "      <td>NaN</td>\n",
       "      <td>...</td>\n",
       "      <td>1.0</td>\n",
       "      <td>NaN</td>\n",
       "      <td>NaN</td>\n",
       "      <td>NaN</td>\n",
       "      <td>NaN</td>\n",
       "      <td>NaN</td>\n",
       "      <td>NaN</td>\n",
       "      <td>NaN</td>\n",
       "      <td>NaN</td>\n",
       "      <td>NaN</td>\n",
       "    </tr>\n",
       "    <tr>\n",
       "      <th>2</th>\n",
       "      <td>21.0</td>\n",
       "      <td>0.0</td>\n",
       "      <td>NaN</td>\n",
       "      <td>NaN</td>\n",
       "      <td>NaN</td>\n",
       "      <td>NaN</td>\n",
       "      <td>NaN</td>\n",
       "      <td>more than 1 million</td>\n",
       "      <td>NaN</td>\n",
       "      <td>NaN</td>\n",
       "      <td>...</td>\n",
       "      <td>NaN</td>\n",
       "      <td>NaN</td>\n",
       "      <td>NaN</td>\n",
       "      <td>1.0</td>\n",
       "      <td>1.0</td>\n",
       "      <td>NaN</td>\n",
       "      <td>NaN</td>\n",
       "      <td>NaN</td>\n",
       "      <td>NaN</td>\n",
       "      <td>NaN</td>\n",
       "    </tr>\n",
       "    <tr>\n",
       "      <th>3</th>\n",
       "      <td>26.0</td>\n",
       "      <td>0.0</td>\n",
       "      <td>NaN</td>\n",
       "      <td>NaN</td>\n",
       "      <td>NaN</td>\n",
       "      <td>NaN</td>\n",
       "      <td>NaN</td>\n",
       "      <td>between 100,000 and 1 million</td>\n",
       "      <td>NaN</td>\n",
       "      <td>NaN</td>\n",
       "      <td>...</td>\n",
       "      <td>1.0</td>\n",
       "      <td>1.0</td>\n",
       "      <td>NaN</td>\n",
       "      <td>NaN</td>\n",
       "      <td>1.0</td>\n",
       "      <td>NaN</td>\n",
       "      <td>NaN</td>\n",
       "      <td>NaN</td>\n",
       "      <td>NaN</td>\n",
       "      <td>NaN</td>\n",
       "    </tr>\n",
       "    <tr>\n",
       "      <th>4</th>\n",
       "      <td>20.0</td>\n",
       "      <td>0.0</td>\n",
       "      <td>NaN</td>\n",
       "      <td>NaN</td>\n",
       "      <td>NaN</td>\n",
       "      <td>NaN</td>\n",
       "      <td>NaN</td>\n",
       "      <td>between 100,000 and 1 million</td>\n",
       "      <td>NaN</td>\n",
       "      <td>NaN</td>\n",
       "      <td>...</td>\n",
       "      <td>NaN</td>\n",
       "      <td>NaN</td>\n",
       "      <td>NaN</td>\n",
       "      <td>NaN</td>\n",
       "      <td>NaN</td>\n",
       "      <td>NaN</td>\n",
       "      <td>NaN</td>\n",
       "      <td>NaN</td>\n",
       "      <td>NaN</td>\n",
       "      <td>NaN</td>\n",
       "    </tr>\n",
       "  </tbody>\n",
       "</table>\n",
       "<p>5 rows × 136 columns</p>\n",
       "</div>"
      ],
      "text/plain": [
       "    Age  AttendedBootcamp  BootcampFinish  BootcampLoanYesNo BootcampName  \\\n",
       "0  27.0               0.0             NaN                NaN          NaN   \n",
       "1  34.0               0.0             NaN                NaN          NaN   \n",
       "2  21.0               0.0             NaN                NaN          NaN   \n",
       "3  26.0               0.0             NaN                NaN          NaN   \n",
       "4  20.0               0.0             NaN                NaN          NaN   \n",
       "\n",
       "   BootcampRecommend  ChildrenNumber                 CityPopulation  \\\n",
       "0                NaN             NaN            more than 1 million   \n",
       "1                NaN             NaN              less than 100,000   \n",
       "2                NaN             NaN            more than 1 million   \n",
       "3                NaN             NaN  between 100,000 and 1 million   \n",
       "4                NaN             NaN  between 100,000 and 1 million   \n",
       "\n",
       "   CodeEventConferences  CodeEventDjangoGirls  ...  YouTubeFCC  \\\n",
       "0                   NaN                   NaN  ...         NaN   \n",
       "1                   NaN                   NaN  ...         1.0   \n",
       "2                   NaN                   NaN  ...         NaN   \n",
       "3                   NaN                   NaN  ...         1.0   \n",
       "4                   NaN                   NaN  ...         NaN   \n",
       "\n",
       "   YouTubeFunFunFunction  YouTubeGoogleDev  YouTubeLearnCode  \\\n",
       "0                    NaN               NaN               NaN   \n",
       "1                    NaN               NaN               NaN   \n",
       "2                    NaN               NaN               1.0   \n",
       "3                    1.0               NaN               NaN   \n",
       "4                    NaN               NaN               NaN   \n",
       "\n",
       "   YouTubeLevelUpTuts  YouTubeMIT  YouTubeMozillaHacks YouTubeOther  \\\n",
       "0                 NaN         NaN                  NaN          NaN   \n",
       "1                 NaN         NaN                  NaN          NaN   \n",
       "2                 1.0         NaN                  NaN          NaN   \n",
       "3                 1.0         NaN                  NaN          NaN   \n",
       "4                 NaN         NaN                  NaN          NaN   \n",
       "\n",
       "   YouTubeSimplilearn  YouTubeTheNewBoston  \n",
       "0                 NaN                  NaN  \n",
       "1                 NaN                  NaN  \n",
       "2                 NaN                  NaN  \n",
       "3                 NaN                  NaN  \n",
       "4                 NaN                  NaN  \n",
       "\n",
       "[5 rows x 136 columns]"
      ]
     },
     "execution_count": 5,
     "metadata": {},
     "output_type": "execute_result"
    }
   ],
   "source": [
    "advertisement.head()"
   ]
  },
  {
   "cell_type": "code",
   "execution_count": 6,
   "id": "54b3c4a0",
   "metadata": {},
   "outputs": [
    {
     "data": {
      "text/plain": [
       "['Age',\n",
       " 'AttendedBootcamp',\n",
       " 'BootcampFinish',\n",
       " 'BootcampLoanYesNo',\n",
       " 'BootcampName',\n",
       " 'BootcampRecommend',\n",
       " 'ChildrenNumber',\n",
       " 'CityPopulation',\n",
       " 'CodeEventConferences',\n",
       " 'CodeEventDjangoGirls',\n",
       " 'CodeEventFCC',\n",
       " 'CodeEventGameJam',\n",
       " 'CodeEventGirlDev',\n",
       " 'CodeEventHackathons',\n",
       " 'CodeEventMeetup',\n",
       " 'CodeEventNodeSchool',\n",
       " 'CodeEventNone',\n",
       " 'CodeEventOther',\n",
       " 'CodeEventRailsBridge',\n",
       " 'CodeEventRailsGirls',\n",
       " 'CodeEventStartUpWknd',\n",
       " 'CodeEventWkdBootcamps',\n",
       " 'CodeEventWomenCode',\n",
       " 'CodeEventWorkshops',\n",
       " 'CommuteTime',\n",
       " 'CountryCitizen',\n",
       " 'CountryLive',\n",
       " 'EmploymentField',\n",
       " 'EmploymentFieldOther',\n",
       " 'EmploymentStatus',\n",
       " 'EmploymentStatusOther',\n",
       " 'ExpectedEarning',\n",
       " 'FinanciallySupporting',\n",
       " 'FirstDevJob',\n",
       " 'Gender',\n",
       " 'GenderOther',\n",
       " 'HasChildren',\n",
       " 'HasDebt',\n",
       " 'HasFinancialDependents',\n",
       " 'HasHighSpdInternet',\n",
       " 'HasHomeMortgage',\n",
       " 'HasServedInMilitary',\n",
       " 'HasStudentDebt',\n",
       " 'HomeMortgageOwe',\n",
       " 'HoursLearning',\n",
       " 'ID.x',\n",
       " 'ID.y',\n",
       " 'Income',\n",
       " 'IsEthnicMinority',\n",
       " 'IsReceiveDisabilitiesBenefits',\n",
       " 'IsSoftwareDev',\n",
       " 'IsUnderEmployed',\n",
       " 'JobApplyWhen',\n",
       " 'JobInterestBackEnd',\n",
       " 'JobInterestDataEngr',\n",
       " 'JobInterestDataSci',\n",
       " 'JobInterestDevOps',\n",
       " 'JobInterestFrontEnd',\n",
       " 'JobInterestFullStack',\n",
       " 'JobInterestGameDev',\n",
       " 'JobInterestInfoSec',\n",
       " 'JobInterestMobile',\n",
       " 'JobInterestOther',\n",
       " 'JobInterestProjMngr',\n",
       " 'JobInterestQAEngr',\n",
       " 'JobInterestUX',\n",
       " 'JobPref',\n",
       " 'JobRelocateYesNo',\n",
       " 'JobRoleInterest',\n",
       " 'JobWherePref',\n",
       " 'LanguageAtHome',\n",
       " 'MaritalStatus',\n",
       " 'MoneyForLearning',\n",
       " 'MonthsProgramming',\n",
       " 'NetworkID',\n",
       " 'Part1EndTime',\n",
       " 'Part1StartTime',\n",
       " 'Part2EndTime',\n",
       " 'Part2StartTime',\n",
       " 'PodcastChangeLog',\n",
       " 'PodcastCodeNewbie',\n",
       " 'PodcastCodePen',\n",
       " 'PodcastDevTea',\n",
       " 'PodcastDotNET',\n",
       " 'PodcastGiantRobots',\n",
       " 'PodcastJSAir',\n",
       " 'PodcastJSJabber',\n",
       " 'PodcastNone',\n",
       " 'PodcastOther',\n",
       " 'PodcastProgThrowdown',\n",
       " 'PodcastRubyRogues',\n",
       " 'PodcastSEDaily',\n",
       " 'PodcastSERadio',\n",
       " 'PodcastShopTalk',\n",
       " 'PodcastTalkPython',\n",
       " 'PodcastTheWebAhead',\n",
       " 'ResourceCodecademy',\n",
       " 'ResourceCodeWars',\n",
       " 'ResourceCoursera',\n",
       " 'ResourceCSS',\n",
       " 'ResourceEdX',\n",
       " 'ResourceEgghead',\n",
       " 'ResourceFCC',\n",
       " 'ResourceHackerRank',\n",
       " 'ResourceKA',\n",
       " 'ResourceLynda',\n",
       " 'ResourceMDN',\n",
       " 'ResourceOdinProj',\n",
       " 'ResourceOther',\n",
       " 'ResourcePluralSight',\n",
       " 'ResourceSkillcrush',\n",
       " 'ResourceSO',\n",
       " 'ResourceTreehouse',\n",
       " 'ResourceUdacity',\n",
       " 'ResourceUdemy',\n",
       " 'ResourceW3S',\n",
       " 'SchoolDegree',\n",
       " 'SchoolMajor',\n",
       " 'StudentDebtOwe',\n",
       " 'YouTubeCodeCourse',\n",
       " 'YouTubeCodingTrain',\n",
       " 'YouTubeCodingTut360',\n",
       " 'YouTubeComputerphile',\n",
       " 'YouTubeDerekBanas',\n",
       " 'YouTubeDevTips',\n",
       " 'YouTubeEngineeredTruth',\n",
       " 'YouTubeFCC',\n",
       " 'YouTubeFunFunFunction',\n",
       " 'YouTubeGoogleDev',\n",
       " 'YouTubeLearnCode',\n",
       " 'YouTubeLevelUpTuts',\n",
       " 'YouTubeMIT',\n",
       " 'YouTubeMozillaHacks',\n",
       " 'YouTubeOther',\n",
       " 'YouTubeSimplilearn',\n",
       " 'YouTubeTheNewBoston']"
      ]
     },
     "execution_count": 6,
     "metadata": {},
     "output_type": "execute_result"
    }
   ],
   "source": [
    "advertisement.columns.tolist()"
   ]
  },
  {
   "cell_type": "markdown",
   "id": "ad299eb8",
   "metadata": {},
   "source": [
    "For the company we represent, we would like to focus on areas of the individual such as:\n",
    "\n",
    "- Age\n",
    "- Country\n",
    "- Income\n",
    "- Time they spend learning\n",
    "\n",
    "We focus on these areas because our advertising is directed to a population of new coders that are interested in our subjects. We have to figure out statistics such as:\n",
    "\n",
    "- Where these new coders are located\n",
    "- The area with the greatest number of new coders\n",
    "- How much money these new coders can spend on our courses"
   ]
  },
  {
   "cell_type": "markdown",
   "id": "26e53e37",
   "metadata": {},
   "source": [
    "We are using a ready made data set from FreeCodeCamp, a popular website where new coders can learn different programming languages. This data set already has a lot of entries, making it it easier for us to analyze the data and decide how we should advertise. \n",
    "\n",
    "This dataset is a 2017 new coders survey, asking new coders information about their lifestyle and interests, using this dataset will be helpful for our advertisement."
   ]
  },
  {
   "cell_type": "markdown",
   "id": "76c391f0",
   "metadata": {},
   "source": [
    "## Checking for Representativity\n",
    "We should check the dataset on whether each individual would like to work a job related to one of our programs"
   ]
  },
  {
   "cell_type": "code",
   "execution_count": 7,
   "id": "a501705e",
   "metadata": {},
   "outputs": [
    {
     "data": {
      "text/plain": [
       "Full-Stack Web Developer                                                                                                                                                                                                                                                                    11.770595\n",
       "  Front-End Web Developer                                                                                                                                                                                                                                                                    6.435927\n",
       "  Data Scientist                                                                                                                                                                                                                                                                             2.173913\n",
       "Back-End Web Developer                                                                                                                                                                                                                                                                       2.030892\n",
       "  Mobile Developer                                                                                                                                                                                                                                                                           1.673341\n",
       "                                                                                                                                                                                                                                                                                              ...    \n",
       "  Front-End Web Developer,   DevOps / SysAdmin,   Mobile Developer, Full-Stack Web Developer                                                                                                                                                                                                 0.014302\n",
       "Back-End Web Developer,   Front-End Web Developer, Data Engineer, Full-Stack Web Developer,   Mobile Developer                                                                                                                                                                               0.014302\n",
       "Back-End Web Developer,   User Experience Designer,   Mobile Developer, Game Developer,   Front-End Web Developer, Full-Stack Web Developer                                                                                                                                                  0.014302\n",
       "  Front-End Web Developer,   Mobile Developer, Back-End Web Developer, Full-Stack Web Developer, Data Engineer                                                                                                                                                                               0.014302\n",
       "  DevOps / SysAdmin,   Mobile Developer,   Product Manager, Game Developer,   Front-End Web Developer, Data Engineer,   Quality Assurance Engineer,   User Experience Designer, Back-End Web Developer,   Data Scientist, Full-Stack Web Developer, Information Security, IT specialist      0.014302\n",
       "Name: JobRoleInterest, Length: 3213, dtype: float64"
      ]
     },
     "execution_count": 7,
     "metadata": {},
     "output_type": "execute_result"
    }
   ],
   "source": [
    "(advertisement['JobRoleInterest'].value_counts(normalize=True)*100)"
   ]
  },
  {
   "cell_type": "markdown",
   "id": "13cbc7b5",
   "metadata": {},
   "source": [
    "We can see that individuals are interested in more than one subject. This sample is still representative nonetheless. We can also notice that there are a lot of individuals interested in web and mobile developement."
   ]
  },
  {
   "cell_type": "code",
   "execution_count": 8,
   "id": "4732f7af",
   "metadata": {},
   "outputs": [
    {
     "data": {
      "image/png": "[encoded data removed]",
      "text/plain": [
       "<Figure size 432x288 with 1 Axes>"
      ]
     },
     "metadata": {},
     "output_type": "display_data"
    }
   ],
   "source": [
    "## select only the first value for multi-interests, and drop null values\n",
    "top10 = advertisement['JobRoleInterest'].dropna().str.split(',').str[0]\n",
    "top10 = (top10.value_counts(normalize=True).head(10))*100\n",
    "plt.style.use('fivethirtyeight')\n",
    "top10.plot.barh(color='#191970')\n",
    "plt.title('Top 10 most job role interests')\n",
    "plt.xlabel('Percentage (%)')\n",
    "plt.show()"
   ]
  },
  {
   "cell_type": "markdown",
   "id": "ec5a7252",
   "metadata": {},
   "source": [
    "We can now see that the job interests that are most sought out by these new coders are in the web developement, mobile developement, game developement, and data science realm. This graph excludes all the following interests for individuals after their first entry, which may change the results of this graph."
   ]
  },
  {
   "cell_type": "markdown",
   "id": "9dfacec4",
   "metadata": {},
   "source": [
    "## Locations and Densities\n",
    "We have the locations for most individuals, allowing us to formulate where most new coders come from in terms of their country of residence."
   ]
  },
  {
   "cell_type": "code",
   "execution_count": 9,
   "id": "b68a5e85",
   "metadata": {
    "scrolled": true
   },
   "outputs": [
    {
     "data": {
      "text/html": [
       "<div>\n",
       "<style scoped>\n",
       "    .dataframe tbody tr th:only-of-type {\n",
       "        vertical-align: middle;\n",
       "    }\n",
       "\n",
       "    .dataframe tbody tr th {\n",
       "        vertical-align: top;\n",
       "    }\n",
       "\n",
       "    .dataframe thead th {\n",
       "        text-align: right;\n",
       "    }\n",
       "</style>\n",
       "<table border=\"1\" class=\"dataframe\">\n",
       "  <thead>\n",
       "    <tr style=\"text-align: right;\">\n",
       "      <th></th>\n",
       "      <th>Absolute</th>\n",
       "      <th>Relative (%)</th>\n",
       "    </tr>\n",
       "  </thead>\n",
       "  <tbody>\n",
       "    <tr>\n",
       "      <th>United States of America</th>\n",
       "      <td>3125</td>\n",
       "      <td>45.700</td>\n",
       "    </tr>\n",
       "    <tr>\n",
       "      <th>India</th>\n",
       "      <td>528</td>\n",
       "      <td>7.722</td>\n",
       "    </tr>\n",
       "    <tr>\n",
       "      <th>United Kingdom</th>\n",
       "      <td>315</td>\n",
       "      <td>4.607</td>\n",
       "    </tr>\n",
       "    <tr>\n",
       "      <th>Canada</th>\n",
       "      <td>260</td>\n",
       "      <td>3.802</td>\n",
       "    </tr>\n",
       "    <tr>\n",
       "      <th>Poland</th>\n",
       "      <td>131</td>\n",
       "      <td>1.916</td>\n",
       "    </tr>\n",
       "    <tr>\n",
       "      <th>...</th>\n",
       "      <td>...</td>\n",
       "      <td>...</td>\n",
       "    </tr>\n",
       "    <tr>\n",
       "      <th>Liberia</th>\n",
       "      <td>1</td>\n",
       "      <td>0.015</td>\n",
       "    </tr>\n",
       "    <tr>\n",
       "      <th>Papua New Guinea</th>\n",
       "      <td>1</td>\n",
       "      <td>0.015</td>\n",
       "    </tr>\n",
       "    <tr>\n",
       "      <th>Guadeloupe</th>\n",
       "      <td>1</td>\n",
       "      <td>0.015</td>\n",
       "    </tr>\n",
       "    <tr>\n",
       "      <th>Gibraltar</th>\n",
       "      <td>1</td>\n",
       "      <td>0.015</td>\n",
       "    </tr>\n",
       "    <tr>\n",
       "      <th>Gambia</th>\n",
       "      <td>1</td>\n",
       "      <td>0.015</td>\n",
       "    </tr>\n",
       "  </tbody>\n",
       "</table>\n",
       "<p>137 rows × 2 columns</p>\n",
       "</div>"
      ],
      "text/plain": [
       "                          Absolute  Relative (%)\n",
       "United States of America      3125        45.700\n",
       "India                          528         7.722\n",
       "United Kingdom                 315         4.607\n",
       "Canada                         260         3.802\n",
       "Poland                         131         1.916\n",
       "...                            ...           ...\n",
       "Liberia                          1         0.015\n",
       "Papua New Guinea                 1         0.015\n",
       "Guadeloupe                       1         0.015\n",
       "Gibraltar                        1         0.015\n",
       "Gambia                           1         0.015\n",
       "\n",
       "[137 rows x 2 columns]"
      ]
     },
     "execution_count": 9,
     "metadata": {},
     "output_type": "execute_result"
    }
   ],
   "source": [
    "## Dropping rows where participants did not answer what role they are interested in\n",
    "ad_new = advertisement[advertisement['JobRoleInterest'].notnull()]\n",
    "## Create absolute and relative freq tables\n",
    "top_countries = pd.DataFrame({'Absolute':ad_new['CountryLive'].value_counts(), 'Relative (%)':round(ad_new['CountryLive'].value_counts(normalize=True)*100,3)})\n",
    "top_countries"
   ]
  },
  {
   "cell_type": "code",
   "execution_count": 10,
   "id": "10fbda90",
   "metadata": {},
   "outputs": [
    {
     "data": {
      "image/png": "[encoded data removed]",
      "text/plain": [
       "<Figure size 432x288 with 1 Axes>"
      ]
     },
     "metadata": {},
     "output_type": "display_data"
    }
   ],
   "source": [
    "top_countries['Relative (%)'].head(10).plot.barh(color='#191970')\n",
    "plt.style.use('fivethirtyeight')\n",
    "plt.title('Top 10 countries with new coders')\n",
    "plt.xlabel('Percentage (%)')\n",
    "plt.show()"
   ]
  },
  {
   "cell_type": "markdown",
   "id": "a4c148e4",
   "metadata": {},
   "source": [
    "We can see that the USA and India have the largest amount of new coders, with the United states making up almost half of the population. Although this is a big factor on figuring out where we should advertise, we should also take note of other factors which may cause us to advertise in another market such as overall income and willingness to spend on courses."
   ]
  },
  {
   "cell_type": "markdown",
   "id": "bbd9c524",
   "metadata": {},
   "source": [
    "## Spending money on Courses\n",
    "We are interested in seeing how much individuals are willing to spend on programs, our program costs 59 dollars a month for reference. Let's focus on the four major countries in the dataset: USA, India, UK, and Canada since they are the ones whom contain most new coders. These countries also have a lot of English speakers, which is important since our course in in English."
   ]
  },
  {
   "cell_type": "code",
   "execution_count": 11,
   "id": "c5c047be",
   "metadata": {},
   "outputs": [
    {
     "name": "stderr",
     "output_type": "stream",
     "text": [
      "C:\\Users\\araf7\\anaconda3\\lib\\site-packages\\pandas\\core\\generic.py:6619: SettingWithCopyWarning: \n",
      "A value is trying to be set on a copy of a slice from a DataFrame\n",
      "\n",
      "See the caveats in the documentation: https://pandas.pydata.org/pandas-docs/stable/user_guide/indexing.html#returning-a-view-versus-a-copy\n",
      "  return self._update_inplace(result)\n",
      "C:\\Users\\araf7\\AppData\\Local\\Temp/ipykernel_15704/2723652969.py:4: SettingWithCopyWarning: \n",
      "A value is trying to be set on a copy of a slice from a DataFrame.\n",
      "Try using .loc[row_indexer,col_indexer] = value instead\n",
      "\n",
      "See the caveats in the documentation: https://pandas.pydata.org/pandas-docs/stable/user_guide/indexing.html#returning-a-view-versus-a-copy\n",
      "  ad_new['Monthly_spend'] = ad_new['MoneyForLearning'] / ad_new['MonthsProgramming']\n"
     ]
    },
    {
     "data": {
      "text/plain": [
       "1           13.333333\n",
       "2          200.000000\n",
       "3            0.000000\n",
       "4            0.000000\n",
       "6            0.000000\n",
       "             ...     \n",
       "18161        0.000000\n",
       "18162        0.000000\n",
       "18163             NaN\n",
       "18171    10000.000000\n",
       "18174             NaN\n",
       "Name: Monthly_spend, Length: 6992, dtype: float64"
      ]
     },
     "execution_count": 11,
     "metadata": {},
     "output_type": "execute_result"
    }
   ],
   "source": [
    "## Find monthly spending of individuals (money they spent on coding divided by the months they spent coding)\n",
    "## Avoid dividing by 0 months\n",
    "ad_new['MonthsProgramming'].replace(0,1,inplace=True)\n",
    "ad_new['Monthly_spend'] = ad_new['MoneyForLearning'] / ad_new['MonthsProgramming']\n",
    "ad_new['Monthly_spend']"
   ]
  },
  {
   "cell_type": "code",
   "execution_count": 12,
   "id": "5213205c",
   "metadata": {},
   "outputs": [
    {
     "data": {
      "text/plain": [
       "False    6317\n",
       "True      675\n",
       "Name: Monthly_spend, dtype: int64"
      ]
     },
     "execution_count": 12,
     "metadata": {},
     "output_type": "execute_result"
    }
   ],
   "source": [
    "## Find null values\n",
    "ad_new['Monthly_spend'].isnull().value_counts()"
   ]
  },
  {
   "cell_type": "code",
   "execution_count": 13,
   "id": "c164f310",
   "metadata": {},
   "outputs": [
    {
     "name": "stderr",
     "output_type": "stream",
     "text": [
      "C:\\Users\\araf7\\anaconda3\\lib\\site-packages\\pandas\\util\\_decorators.py:311: SettingWithCopyWarning: \n",
      "A value is trying to be set on a copy of a slice from a DataFrame\n",
      "\n",
      "See the caveats in the documentation: https://pandas.pydata.org/pandas-docs/stable/user_guide/indexing.html#returning-a-view-versus-a-copy\n",
      "  return func(*args, **kwargs)\n"
     ]
    }
   ],
   "source": [
    "ad_new.dropna(subset=['CountryLive', 'Monthly_spend'],inplace=True)"
   ]
  },
  {
   "cell_type": "code",
   "execution_count": 40,
   "id": "a1537cbb",
   "metadata": {},
   "outputs": [
    {
     "data": {
      "text/html": [
       "<div>\n",
       "<style scoped>\n",
       "    .dataframe tbody tr th:only-of-type {\n",
       "        vertical-align: middle;\n",
       "    }\n",
       "\n",
       "    .dataframe tbody tr th {\n",
       "        vertical-align: top;\n",
       "    }\n",
       "\n",
       "    .dataframe thead th {\n",
       "        text-align: right;\n",
       "    }\n",
       "</style>\n",
       "<table border=\"1\" class=\"dataframe\">\n",
       "  <thead>\n",
       "    <tr style=\"text-align: right;\">\n",
       "      <th></th>\n",
       "      <th>country</th>\n",
       "      <th>mean</th>\n",
       "    </tr>\n",
       "    <tr>\n",
       "      <th>CountryLive</th>\n",
       "      <th></th>\n",
       "      <th></th>\n",
       "    </tr>\n",
       "  </thead>\n",
       "  <tbody>\n",
       "    <tr>\n",
       "      <th>Afghanistan</th>\n",
       "      <td>Afghanistan</td>\n",
       "      <td>0.000000</td>\n",
       "    </tr>\n",
       "    <tr>\n",
       "      <th>Albania</th>\n",
       "      <td>Albania</td>\n",
       "      <td>7.111111</td>\n",
       "    </tr>\n",
       "    <tr>\n",
       "      <th>Algeria</th>\n",
       "      <td>Algeria</td>\n",
       "      <td>0.000000</td>\n",
       "    </tr>\n",
       "    <tr>\n",
       "      <th>Angola</th>\n",
       "      <td>Angola</td>\n",
       "      <td>116.666667</td>\n",
       "    </tr>\n",
       "    <tr>\n",
       "      <th>Anguilla</th>\n",
       "      <td>Anguilla</td>\n",
       "      <td>0.000000</td>\n",
       "    </tr>\n",
       "    <tr>\n",
       "      <th>...</th>\n",
       "      <td>...</td>\n",
       "      <td>...</td>\n",
       "    </tr>\n",
       "    <tr>\n",
       "      <th>Venezuela</th>\n",
       "      <td>Venezuela</td>\n",
       "      <td>11.923077</td>\n",
       "    </tr>\n",
       "    <tr>\n",
       "      <th>Vietnam</th>\n",
       "      <td>Vietnam</td>\n",
       "      <td>243.324074</td>\n",
       "    </tr>\n",
       "    <tr>\n",
       "      <th>Virgin Islands (USA)</th>\n",
       "      <td>Virgin Islands (USA)</td>\n",
       "      <td>60.416667</td>\n",
       "    </tr>\n",
       "    <tr>\n",
       "      <th>Yemen</th>\n",
       "      <td>Yemen</td>\n",
       "      <td>10000.000000</td>\n",
       "    </tr>\n",
       "    <tr>\n",
       "      <th>Zimbabwe</th>\n",
       "      <td>Zimbabwe</td>\n",
       "      <td>23.125000</td>\n",
       "    </tr>\n",
       "  </tbody>\n",
       "</table>\n",
       "<p>131 rows × 2 columns</p>\n",
       "</div>"
      ],
      "text/plain": [
       "                                   country          mean\n",
       "CountryLive                                             \n",
       "Afghanistan                    Afghanistan      0.000000\n",
       "Albania                            Albania      7.111111\n",
       "Algeria                            Algeria      0.000000\n",
       "Angola                              Angola    116.666667\n",
       "Anguilla                          Anguilla      0.000000\n",
       "...                                    ...           ...\n",
       "Venezuela                        Venezuela     11.923077\n",
       "Vietnam                            Vietnam    243.324074\n",
       "Virgin Islands (USA)  Virgin Islands (USA)     60.416667\n",
       "Yemen                                Yemen  10000.000000\n",
       "Zimbabwe                          Zimbabwe     23.125000\n",
       "\n",
       "[131 rows x 2 columns]"
      ]
     },
     "execution_count": 40,
     "metadata": {},
     "output_type": "execute_result"
    }
   ],
   "source": [
    "## group data by country\n",
    "country = ad_new.groupby(['CountryLive'])\n",
    "count_per_month = pd.DataFrame({'country':country['CountryLive'].first(),'mean':country['Monthly_spend'].mean()})\n",
    "count_per_month"
   ]
  },
  {
   "cell_type": "code",
   "execution_count": 48,
   "id": "181a47e5",
   "metadata": {},
   "outputs": [
    {
     "data": {
      "text/html": [
       "<div>\n",
       "<style scoped>\n",
       "    .dataframe tbody tr th:only-of-type {\n",
       "        vertical-align: middle;\n",
       "    }\n",
       "\n",
       "    .dataframe tbody tr th {\n",
       "        vertical-align: top;\n",
       "    }\n",
       "\n",
       "    .dataframe thead th {\n",
       "        text-align: right;\n",
       "    }\n",
       "</style>\n",
       "<table border=\"1\" class=\"dataframe\">\n",
       "  <thead>\n",
       "    <tr style=\"text-align: right;\">\n",
       "      <th></th>\n",
       "      <th>country</th>\n",
       "      <th>mean</th>\n",
       "    </tr>\n",
       "    <tr>\n",
       "      <th>CountryLive</th>\n",
       "      <th></th>\n",
       "      <th></th>\n",
       "    </tr>\n",
       "  </thead>\n",
       "  <tbody>\n",
       "    <tr>\n",
       "      <th>United States of America</th>\n",
       "      <td>United States of America</td>\n",
       "      <td>227.997996</td>\n",
       "    </tr>\n",
       "    <tr>\n",
       "      <th>India</th>\n",
       "      <td>India</td>\n",
       "      <td>135.100982</td>\n",
       "    </tr>\n",
       "    <tr>\n",
       "      <th>Canada</th>\n",
       "      <td>Canada</td>\n",
       "      <td>113.510961</td>\n",
       "    </tr>\n",
       "    <tr>\n",
       "      <th>United Kingdom</th>\n",
       "      <td>United Kingdom</td>\n",
       "      <td>45.534443</td>\n",
       "    </tr>\n",
       "  </tbody>\n",
       "</table>\n",
       "</div>"
      ],
      "text/plain": [
       "                                           country        mean\n",
       "CountryLive                                                   \n",
       "United States of America  United States of America  227.997996\n",
       "India                                        India  135.100982\n",
       "Canada                                      Canada  113.510961\n",
       "United Kingdom                      United Kingdom   45.534443"
      ]
     },
     "execution_count": 48,
     "metadata": {},
     "output_type": "execute_result"
    }
   ],
   "source": [
    "top_4 = count_per_month[(count_per_month['country']=='United States of America')|\n",
    "                        (count_per_month['country']=='India')|\n",
    "                        (count_per_month['country']=='United Kingdom')|\n",
    "                        (count_per_month['country']=='Canada')]\n",
    "top_4.sort_values(by='mean',ascending=False)"
   ]
  },
  {
   "cell_type": "markdown",
   "id": "f0f036ba",
   "metadata": {},
   "source": [
    "Surprisingly, on average people from india spend more on courses compared to Canada and the UK. This is off considering the economic standards when comparing the three countries. Things that may explain this information are:\n",
    "- Individuals in India are actually willing to spend more on programming services\n",
    "- Heavy outliers causing the average to increase/ decrease for the countries\n",
    "- Little data from the countries causing insufficient information\n",
    "- Possible currency exchange issues"
   ]
  },
  {
   "cell_type": "markdown",
   "id": "994bce3e",
   "metadata": {},
   "source": [
    "## Finding outliers\n",
    "Let's figure out what is affecting this data"
   ]
  },
  {
   "cell_type": "code",
   "execution_count": 72,
   "id": "5bf2c88c",
   "metadata": {},
   "outputs": [
    {
     "data": {
      "image/png": "[encoded data removed]",
      "text/plain": [
       "<Figure size 720x432 with 1 Axes>"
      ]
     },
     "metadata": {},
     "output_type": "display_data"
    }
   ],
   "source": [
    "CA = ad_new[ad_new['CountryLive']=='Canada']\n",
    "USA = ad_new[ad_new['CountryLive']=='United States of America']\n",
    "UK = ad_new[ad_new['CountryLive']=='United Kingdom']\n",
    "IND = ad_new[ad_new['CountryLive']=='India']\n",
    "\n",
    "plt.figure(figsize=(10, 6))\n",
    "\n",
    "data = [USA['Monthly_spend'], IND['Monthly_spend'], UK['Monthly_spend'], CA['Monthly_spend']]\n",
    "labels = ['United States of America', 'India', 'United Kingdom', 'Canada']\n",
    "\n",
    "plt.boxplot(data, labels=labels)\n",
    "\n",
    "plt.title('Monthly Spend by Country')\n",
    "plt.xlabel('Country')\n",
    "plt.ylabel('Monthly Spend')\n",
    "\n",
    "plt.show()"
   ]
  },
  {
   "cell_type": "markdown",
   "id": "bb2bf673",
   "metadata": {},
   "source": [
    "We can see a lot of extreme outliers, notably from the US and India. Let's get rid of these outliers and keep values less than 15000, this will only get rid of some of the outliers from the US but not from other countries."
   ]
  },
  {
   "cell_type": "markdown",
   "id": "af00fa42",
   "metadata": {},
   "source": [
    "### Analyzing outliers of India\n",
    "Let's try to figure out why some of the respondants of India spend so much on programming."
   ]
  },
  {
   "cell_type": "code",
   "execution_count": 105,
   "id": "48632603",
   "metadata": {
    "scrolled": true
   },
   "outputs": [
    {
     "data": {
      "text/html": [
       "<div>\n",
       "<style scoped>\n",
       "    .dataframe tbody tr th:only-of-type {\n",
       "        vertical-align: middle;\n",
       "    }\n",
       "\n",
       "    .dataframe tbody tr th {\n",
       "        vertical-align: top;\n",
       "    }\n",
       "\n",
       "    .dataframe thead th {\n",
       "        text-align: right;\n",
       "    }\n",
       "</style>\n",
       "<table border=\"1\" class=\"dataframe\">\n",
       "  <thead>\n",
       "    <tr style=\"text-align: right;\">\n",
       "      <th></th>\n",
       "      <th>AttendedBootcamp</th>\n",
       "      <th>BootcampName</th>\n",
       "      <th>BootcampFinish</th>\n",
       "      <th>MoneyForLearning</th>\n",
       "      <th>MonthsProgramming</th>\n",
       "      <th>Monthly_spend</th>\n",
       "      <th>CodeEventConferences</th>\n",
       "    </tr>\n",
       "  </thead>\n",
       "  <tbody>\n",
       "    <tr>\n",
       "      <th>1728</th>\n",
       "      <td>0.0</td>\n",
       "      <td>NaN</td>\n",
       "      <td>NaN</td>\n",
       "      <td>20000.0</td>\n",
       "      <td>4.0</td>\n",
       "      <td>5000.000000</td>\n",
       "      <td>NaN</td>\n",
       "    </tr>\n",
       "    <tr>\n",
       "      <th>1755</th>\n",
       "      <td>0.0</td>\n",
       "      <td>NaN</td>\n",
       "      <td>NaN</td>\n",
       "      <td>50000.0</td>\n",
       "      <td>15.0</td>\n",
       "      <td>3333.333333</td>\n",
       "      <td>NaN</td>\n",
       "    </tr>\n",
       "    <tr>\n",
       "      <th>7989</th>\n",
       "      <td>0.0</td>\n",
       "      <td>NaN</td>\n",
       "      <td>NaN</td>\n",
       "      <td>5000.0</td>\n",
       "      <td>1.0</td>\n",
       "      <td>5000.000000</td>\n",
       "      <td>1.0</td>\n",
       "    </tr>\n",
       "    <tr>\n",
       "      <th>8126</th>\n",
       "      <td>0.0</td>\n",
       "      <td>NaN</td>\n",
       "      <td>NaN</td>\n",
       "      <td>5000.0</td>\n",
       "      <td>1.0</td>\n",
       "      <td>5000.000000</td>\n",
       "      <td>NaN</td>\n",
       "    </tr>\n",
       "    <tr>\n",
       "      <th>13398</th>\n",
       "      <td>0.0</td>\n",
       "      <td>NaN</td>\n",
       "      <td>NaN</td>\n",
       "      <td>20000.0</td>\n",
       "      <td>2.0</td>\n",
       "      <td>10000.000000</td>\n",
       "      <td>NaN</td>\n",
       "    </tr>\n",
       "    <tr>\n",
       "      <th>15587</th>\n",
       "      <td>0.0</td>\n",
       "      <td>NaN</td>\n",
       "      <td>NaN</td>\n",
       "      <td>100000.0</td>\n",
       "      <td>24.0</td>\n",
       "      <td>4166.666667</td>\n",
       "      <td>NaN</td>\n",
       "    </tr>\n",
       "  </tbody>\n",
       "</table>\n",
       "</div>"
      ],
      "text/plain": [
       "       AttendedBootcamp BootcampName  BootcampFinish  MoneyForLearning  \\\n",
       "1728                0.0          NaN             NaN           20000.0   \n",
       "1755                0.0          NaN             NaN           50000.0   \n",
       "7989                0.0          NaN             NaN            5000.0   \n",
       "8126                0.0          NaN             NaN            5000.0   \n",
       "13398               0.0          NaN             NaN           20000.0   \n",
       "15587               0.0          NaN             NaN          100000.0   \n",
       "\n",
       "       MonthsProgramming  Monthly_spend  CodeEventConferences  \n",
       "1728                 4.0    5000.000000                   NaN  \n",
       "1755                15.0    3333.333333                   NaN  \n",
       "7989                 1.0    5000.000000                   1.0  \n",
       "8126                 1.0    5000.000000                   NaN  \n",
       "13398                2.0   10000.000000                   NaN  \n",
       "15587               24.0    4166.666667                   NaN  "
      ]
     },
     "execution_count": 105,
     "metadata": {},
     "output_type": "execute_result"
    }
   ],
   "source": [
    "india = ad_new[(ad_new['Monthly_spend'] > 2000)&(ad_new['CountryLive']=='India')]\n",
    "india[['AttendedBootcamp', 'BootcampName', 'BootcampFinish',\n",
    "        'MoneyForLearning', 'MonthsProgramming', 'Monthly_spend','CodeEventConferences']]"
   ]
  },
  {
   "cell_type": "markdown",
   "id": "e5a9331f",
   "metadata": {},
   "source": [
    "This data does not suggest the reason for so many outliers in India, only one of the 6 have attended a coding conference, and none have done a bootcamp."
   ]
  },
  {
   "cell_type": "markdown",
   "id": "4ef8dc9c",
   "metadata": {},
   "source": [
    "### Analyzing outliers of USA"
   ]
  },
  {
   "cell_type": "code",
   "execution_count": 106,
   "id": "2d3f74b7",
   "metadata": {},
   "outputs": [
    {
     "data": {
      "text/html": [
       "<div>\n",
       "<style scoped>\n",
       "    .dataframe tbody tr th:only-of-type {\n",
       "        vertical-align: middle;\n",
       "    }\n",
       "\n",
       "    .dataframe tbody tr th {\n",
       "        vertical-align: top;\n",
       "    }\n",
       "\n",
       "    .dataframe thead th {\n",
       "        text-align: right;\n",
       "    }\n",
       "</style>\n",
       "<table border=\"1\" class=\"dataframe\">\n",
       "  <thead>\n",
       "    <tr style=\"text-align: right;\">\n",
       "      <th></th>\n",
       "      <th>AttendedBootcamp</th>\n",
       "      <th>BootcampName</th>\n",
       "      <th>BootcampFinish</th>\n",
       "      <th>MoneyForLearning</th>\n",
       "      <th>MonthsProgramming</th>\n",
       "      <th>Monthly_spend</th>\n",
       "      <th>CodeEventConferences</th>\n",
       "    </tr>\n",
       "  </thead>\n",
       "  <tbody>\n",
       "    <tr>\n",
       "      <th>2478</th>\n",
       "      <td>1.0</td>\n",
       "      <td>NaN</td>\n",
       "      <td>0.0</td>\n",
       "      <td>100000.0</td>\n",
       "      <td>2.0</td>\n",
       "      <td>50000.000000</td>\n",
       "      <td>NaN</td>\n",
       "    </tr>\n",
       "    <tr>\n",
       "      <th>3184</th>\n",
       "      <td>1.0</td>\n",
       "      <td>We Can Code IT</td>\n",
       "      <td>1.0</td>\n",
       "      <td>9000.0</td>\n",
       "      <td>1.0</td>\n",
       "      <td>9000.000000</td>\n",
       "      <td>NaN</td>\n",
       "    </tr>\n",
       "    <tr>\n",
       "      <th>3930</th>\n",
       "      <td>0.0</td>\n",
       "      <td>NaN</td>\n",
       "      <td>NaN</td>\n",
       "      <td>65000.0</td>\n",
       "      <td>6.0</td>\n",
       "      <td>10833.333333</td>\n",
       "      <td>NaN</td>\n",
       "    </tr>\n",
       "    <tr>\n",
       "      <th>6805</th>\n",
       "      <td>1.0</td>\n",
       "      <td>Sabio.la</td>\n",
       "      <td>1.0</td>\n",
       "      <td>15000.0</td>\n",
       "      <td>1.0</td>\n",
       "      <td>15000.000000</td>\n",
       "      <td>NaN</td>\n",
       "    </tr>\n",
       "    <tr>\n",
       "      <th>7198</th>\n",
       "      <td>0.0</td>\n",
       "      <td>NaN</td>\n",
       "      <td>NaN</td>\n",
       "      <td>70000.0</td>\n",
       "      <td>5.0</td>\n",
       "      <td>14000.000000</td>\n",
       "      <td>1.0</td>\n",
       "    </tr>\n",
       "    <tr>\n",
       "      <th>14024</th>\n",
       "      <td>0.0</td>\n",
       "      <td>NaN</td>\n",
       "      <td>NaN</td>\n",
       "      <td>80000.0</td>\n",
       "      <td>1.0</td>\n",
       "      <td>80000.000000</td>\n",
       "      <td>NaN</td>\n",
       "    </tr>\n",
       "    <tr>\n",
       "      <th>16650</th>\n",
       "      <td>0.0</td>\n",
       "      <td>NaN</td>\n",
       "      <td>NaN</td>\n",
       "      <td>200000.0</td>\n",
       "      <td>12.0</td>\n",
       "      <td>16666.666667</td>\n",
       "      <td>NaN</td>\n",
       "    </tr>\n",
       "    <tr>\n",
       "      <th>16997</th>\n",
       "      <td>0.0</td>\n",
       "      <td>NaN</td>\n",
       "      <td>NaN</td>\n",
       "      <td>12500.0</td>\n",
       "      <td>1.0</td>\n",
       "      <td>12500.000000</td>\n",
       "      <td>NaN</td>\n",
       "    </tr>\n",
       "    <tr>\n",
       "      <th>17231</th>\n",
       "      <td>0.0</td>\n",
       "      <td>NaN</td>\n",
       "      <td>NaN</td>\n",
       "      <td>30000.0</td>\n",
       "      <td>2.0</td>\n",
       "      <td>15000.000000</td>\n",
       "      <td>NaN</td>\n",
       "    </tr>\n",
       "  </tbody>\n",
       "</table>\n",
       "</div>"
      ],
      "text/plain": [
       "       AttendedBootcamp    BootcampName  BootcampFinish  MoneyForLearning  \\\n",
       "2478                1.0             NaN             0.0          100000.0   \n",
       "3184                1.0  We Can Code IT             1.0            9000.0   \n",
       "3930                0.0             NaN             NaN           65000.0   \n",
       "6805                1.0        Sabio.la             1.0           15000.0   \n",
       "7198                0.0             NaN             NaN           70000.0   \n",
       "14024               0.0             NaN             NaN           80000.0   \n",
       "16650               0.0             NaN             NaN          200000.0   \n",
       "16997               0.0             NaN             NaN           12500.0   \n",
       "17231               0.0             NaN             NaN           30000.0   \n",
       "\n",
       "       MonthsProgramming  Monthly_spend  CodeEventConferences  \n",
       "2478                 2.0   50000.000000                   NaN  \n",
       "3184                 1.0    9000.000000                   NaN  \n",
       "3930                 6.0   10833.333333                   NaN  \n",
       "6805                 1.0   15000.000000                   NaN  \n",
       "7198                 5.0   14000.000000                   1.0  \n",
       "14024                1.0   80000.000000                   NaN  \n",
       "16650               12.0   16666.666667                   NaN  \n",
       "16997                1.0   12500.000000                   NaN  \n",
       "17231                2.0   15000.000000                   NaN  "
      ]
     },
     "execution_count": 106,
     "metadata": {},
     "output_type": "execute_result"
    }
   ],
   "source": [
    "United = ad_new[(ad_new['Monthly_spend'] > 8000)&(ad_new['CountryLive']=='United States of America')]\n",
    "United[['AttendedBootcamp', 'BootcampName', 'BootcampFinish',\n",
    "        'MoneyForLearning', 'MonthsProgramming', 'Monthly_spend','CodeEventConferences']]"
   ]
  },
  {
   "cell_type": "markdown",
   "id": "d63690db",
   "metadata": {},
   "source": [
    "We can see a couple of the Americans have attended a bootcamp which can contribute to the money for learning."
   ]
  },
  {
   "cell_type": "markdown",
   "id": "878bd04a",
   "metadata": {},
   "source": [
    "### Analyzing outliers of Canada"
   ]
  },
  {
   "cell_type": "code",
   "execution_count": 107,
   "id": "eb603863",
   "metadata": {},
   "outputs": [
    {
     "data": {
      "text/html": [
       "<div>\n",
       "<style scoped>\n",
       "    .dataframe tbody tr th:only-of-type {\n",
       "        vertical-align: middle;\n",
       "    }\n",
       "\n",
       "    .dataframe tbody tr th {\n",
       "        vertical-align: top;\n",
       "    }\n",
       "\n",
       "    .dataframe thead th {\n",
       "        text-align: right;\n",
       "    }\n",
       "</style>\n",
       "<table border=\"1\" class=\"dataframe\">\n",
       "  <thead>\n",
       "    <tr style=\"text-align: right;\">\n",
       "      <th></th>\n",
       "      <th>AttendedBootcamp</th>\n",
       "      <th>BootcampName</th>\n",
       "      <th>BootcampFinish</th>\n",
       "      <th>MoneyForLearning</th>\n",
       "      <th>MonthsProgramming</th>\n",
       "      <th>Monthly_spend</th>\n",
       "      <th>CodeEventConferences</th>\n",
       "    </tr>\n",
       "  </thead>\n",
       "  <tbody>\n",
       "    <tr>\n",
       "      <th>6590</th>\n",
       "      <td>1.0</td>\n",
       "      <td>Lighthouse Labs</td>\n",
       "      <td>1.0</td>\n",
       "      <td>14023.0</td>\n",
       "      <td>6.0</td>\n",
       "      <td>2337.166667</td>\n",
       "      <td>NaN</td>\n",
       "    </tr>\n",
       "    <tr>\n",
       "      <th>13659</th>\n",
       "      <td>1.0</td>\n",
       "      <td>Bloc.io</td>\n",
       "      <td>0.0</td>\n",
       "      <td>10000.0</td>\n",
       "      <td>2.0</td>\n",
       "      <td>5000.000000</td>\n",
       "      <td>1.0</td>\n",
       "    </tr>\n",
       "  </tbody>\n",
       "</table>\n",
       "</div>"
      ],
      "text/plain": [
       "       AttendedBootcamp     BootcampName  BootcampFinish  MoneyForLearning  \\\n",
       "6590                1.0  Lighthouse Labs             1.0           14023.0   \n",
       "13659               1.0          Bloc.io             0.0           10000.0   \n",
       "\n",
       "       MonthsProgramming  Monthly_spend  CodeEventConferences  \n",
       "6590                 6.0    2337.166667                   NaN  \n",
       "13659                2.0    5000.000000                   1.0  "
      ]
     },
     "execution_count": 107,
     "metadata": {},
     "output_type": "execute_result"
    }
   ],
   "source": [
    "Can = ad_new[(ad_new['Monthly_spend'] > 2000)&(ad_new['CountryLive']=='Canada')]\n",
    "Can[['AttendedBootcamp', 'BootcampName', 'BootcampFinish',\n",
    "        'MoneyForLearning', 'MonthsProgramming', 'Monthly_spend','CodeEventConferences']]"
   ]
  },
  {
   "cell_type": "markdown",
   "id": "5ca23e16",
   "metadata": {},
   "source": [
    "The highest spenders of Canada have both attended bootcamps which increases their spending."
   ]
  },
  {
   "cell_type": "markdown",
   "id": "9438f3b9",
   "metadata": {},
   "source": [
    "### Analyzing outliers of UK"
   ]
  },
  {
   "cell_type": "code",
   "execution_count": 108,
   "id": "784547b5",
   "metadata": {},
   "outputs": [
    {
     "data": {
      "text/html": [
       "<div>\n",
       "<style scoped>\n",
       "    .dataframe tbody tr th:only-of-type {\n",
       "        vertical-align: middle;\n",
       "    }\n",
       "\n",
       "    .dataframe tbody tr th {\n",
       "        vertical-align: top;\n",
       "    }\n",
       "\n",
       "    .dataframe thead th {\n",
       "        text-align: right;\n",
       "    }\n",
       "</style>\n",
       "<table border=\"1\" class=\"dataframe\">\n",
       "  <thead>\n",
       "    <tr style=\"text-align: right;\">\n",
       "      <th></th>\n",
       "      <th>AttendedBootcamp</th>\n",
       "      <th>BootcampName</th>\n",
       "      <th>BootcampFinish</th>\n",
       "      <th>MoneyForLearning</th>\n",
       "      <th>MonthsProgramming</th>\n",
       "      <th>Monthly_spend</th>\n",
       "      <th>CodeEventConferences</th>\n",
       "    </tr>\n",
       "  </thead>\n",
       "  <tbody>\n",
       "    <tr>\n",
       "      <th>3645</th>\n",
       "      <td>0.0</td>\n",
       "      <td>NaN</td>\n",
       "      <td>NaN</td>\n",
       "      <td>1200.0</td>\n",
       "      <td>1.0</td>\n",
       "      <td>1200.0</td>\n",
       "      <td>NaN</td>\n",
       "    </tr>\n",
       "    <tr>\n",
       "      <th>6127</th>\n",
       "      <td>1.0</td>\n",
       "      <td>General Assembly</td>\n",
       "      <td>1.0</td>\n",
       "      <td>10000.0</td>\n",
       "      <td>8.0</td>\n",
       "      <td>1250.0</td>\n",
       "      <td>NaN</td>\n",
       "    </tr>\n",
       "    <tr>\n",
       "      <th>8948</th>\n",
       "      <td>1.0</td>\n",
       "      <td>NaN</td>\n",
       "      <td>1.0</td>\n",
       "      <td>7000.0</td>\n",
       "      <td>5.0</td>\n",
       "      <td>1400.0</td>\n",
       "      <td>NaN</td>\n",
       "    </tr>\n",
       "  </tbody>\n",
       "</table>\n",
       "</div>"
      ],
      "text/plain": [
       "      AttendedBootcamp      BootcampName  BootcampFinish  MoneyForLearning  \\\n",
       "3645               0.0               NaN             NaN            1200.0   \n",
       "6127               1.0  General Assembly             1.0           10000.0   \n",
       "8948               1.0               NaN             1.0            7000.0   \n",
       "\n",
       "      MonthsProgramming  Monthly_spend  CodeEventConferences  \n",
       "3645                1.0         1200.0                   NaN  \n",
       "6127                8.0         1250.0                   NaN  \n",
       "8948                5.0         1400.0                   NaN  "
      ]
     },
     "execution_count": 108,
     "metadata": {},
     "output_type": "execute_result"
    }
   ],
   "source": [
    "UnK = ad_new[(ad_new['Monthly_spend'] > 1000)&(ad_new['CountryLive']=='United Kingdom')]\n",
    "UnK[['AttendedBootcamp', 'BootcampName', 'BootcampFinish',\n",
    "        'MoneyForLearning', 'MonthsProgramming', 'Monthly_spend','CodeEventConferences']]"
   ]
  },
  {
   "cell_type": "markdown",
   "id": "b921ebb1",
   "metadata": {},
   "source": [
    "Two of the three largest outliers of the UK have both attended bootcamps. Surprisingly, the largest outlier only spent one month programming."
   ]
  },
  {
   "cell_type": "markdown",
   "id": "bf0570d9",
   "metadata": {},
   "source": [
    "### Get rid of outliers"
   ]
  },
  {
   "cell_type": "code",
   "execution_count": 99,
   "id": "27e0afe0",
   "metadata": {},
   "outputs": [],
   "source": [
    "new_outlier = ad_new[ad_new['Monthly_spend'] < 5000]"
   ]
  },
  {
   "cell_type": "code",
   "execution_count": 100,
   "id": "db4df09e",
   "metadata": {},
   "outputs": [
    {
     "data": {
      "text/html": [
       "<div>\n",
       "<style scoped>\n",
       "    .dataframe tbody tr th:only-of-type {\n",
       "        vertical-align: middle;\n",
       "    }\n",
       "\n",
       "    .dataframe tbody tr th {\n",
       "        vertical-align: top;\n",
       "    }\n",
       "\n",
       "    .dataframe thead th {\n",
       "        text-align: right;\n",
       "    }\n",
       "</style>\n",
       "<table border=\"1\" class=\"dataframe\">\n",
       "  <thead>\n",
       "    <tr style=\"text-align: right;\">\n",
       "      <th></th>\n",
       "      <th>country</th>\n",
       "      <th>mean</th>\n",
       "    </tr>\n",
       "    <tr>\n",
       "      <th>CountryLive</th>\n",
       "      <th></th>\n",
       "      <th></th>\n",
       "    </tr>\n",
       "  </thead>\n",
       "  <tbody>\n",
       "    <tr>\n",
       "      <th>Afghanistan</th>\n",
       "      <td>Afghanistan</td>\n",
       "      <td>0.000000</td>\n",
       "    </tr>\n",
       "    <tr>\n",
       "      <th>Albania</th>\n",
       "      <td>Albania</td>\n",
       "      <td>7.111111</td>\n",
       "    </tr>\n",
       "    <tr>\n",
       "      <th>Algeria</th>\n",
       "      <td>Algeria</td>\n",
       "      <td>0.000000</td>\n",
       "    </tr>\n",
       "    <tr>\n",
       "      <th>Angola</th>\n",
       "      <td>Angola</td>\n",
       "      <td>116.666667</td>\n",
       "    </tr>\n",
       "    <tr>\n",
       "      <th>Anguilla</th>\n",
       "      <td>Anguilla</td>\n",
       "      <td>0.000000</td>\n",
       "    </tr>\n",
       "    <tr>\n",
       "      <th>...</th>\n",
       "      <td>...</td>\n",
       "      <td>...</td>\n",
       "    </tr>\n",
       "    <tr>\n",
       "      <th>Vanuatu</th>\n",
       "      <td>Vanuatu</td>\n",
       "      <td>0.000000</td>\n",
       "    </tr>\n",
       "    <tr>\n",
       "      <th>Venezuela</th>\n",
       "      <td>Venezuela</td>\n",
       "      <td>11.923077</td>\n",
       "    </tr>\n",
       "    <tr>\n",
       "      <th>Vietnam</th>\n",
       "      <td>Vietnam</td>\n",
       "      <td>243.324074</td>\n",
       "    </tr>\n",
       "    <tr>\n",
       "      <th>Virgin Islands (USA)</th>\n",
       "      <td>Virgin Islands (USA)</td>\n",
       "      <td>60.416667</td>\n",
       "    </tr>\n",
       "    <tr>\n",
       "      <th>Zimbabwe</th>\n",
       "      <td>Zimbabwe</td>\n",
       "      <td>23.125000</td>\n",
       "    </tr>\n",
       "  </tbody>\n",
       "</table>\n",
       "<p>130 rows × 2 columns</p>\n",
       "</div>"
      ],
      "text/plain": [
       "                                   country        mean\n",
       "CountryLive                                           \n",
       "Afghanistan                    Afghanistan    0.000000\n",
       "Albania                            Albania    7.111111\n",
       "Algeria                            Algeria    0.000000\n",
       "Angola                              Angola  116.666667\n",
       "Anguilla                          Anguilla    0.000000\n",
       "...                                    ...         ...\n",
       "Vanuatu                            Vanuatu    0.000000\n",
       "Venezuela                        Venezuela   11.923077\n",
       "Vietnam                            Vietnam  243.324074\n",
       "Virgin Islands (USA)  Virgin Islands (USA)   60.416667\n",
       "Zimbabwe                          Zimbabwe   23.125000\n",
       "\n",
       "[130 rows x 2 columns]"
      ]
     },
     "execution_count": 100,
     "metadata": {},
     "output_type": "execute_result"
    }
   ],
   "source": [
    "## recompute the mean values\n",
    "countO = new_outlier.groupby(['CountryLive'])\n",
    "count_per_monthO = pd.DataFrame({'country':countO['CountryLive'].first(),'mean':countO['Monthly_spend'].mean()})\n",
    "count_per_monthO"
   ]
  },
  {
   "cell_type": "code",
   "execution_count": 101,
   "id": "3bf75349",
   "metadata": {},
   "outputs": [
    {
     "data": {
      "text/html": [
       "<div>\n",
       "<style scoped>\n",
       "    .dataframe tbody tr th:only-of-type {\n",
       "        vertical-align: middle;\n",
       "    }\n",
       "\n",
       "    .dataframe tbody tr th {\n",
       "        vertical-align: top;\n",
       "    }\n",
       "\n",
       "    .dataframe thead th {\n",
       "        text-align: right;\n",
       "    }\n",
       "</style>\n",
       "<table border=\"1\" class=\"dataframe\">\n",
       "  <thead>\n",
       "    <tr style=\"text-align: right;\">\n",
       "      <th></th>\n",
       "      <th>country</th>\n",
       "      <th>mean</th>\n",
       "    </tr>\n",
       "    <tr>\n",
       "      <th>CountryLive</th>\n",
       "      <th></th>\n",
       "      <th></th>\n",
       "    </tr>\n",
       "  </thead>\n",
       "  <tbody>\n",
       "    <tr>\n",
       "      <th>United States of America</th>\n",
       "      <td>United States of America</td>\n",
       "      <td>130.639017</td>\n",
       "    </tr>\n",
       "    <tr>\n",
       "      <th>Canada</th>\n",
       "      <td>Canada</td>\n",
       "      <td>93.065400</td>\n",
       "    </tr>\n",
       "    <tr>\n",
       "      <th>India</th>\n",
       "      <td>India</td>\n",
       "      <td>81.812102</td>\n",
       "    </tr>\n",
       "    <tr>\n",
       "      <th>United Kingdom</th>\n",
       "      <td>United Kingdom</td>\n",
       "      <td>45.534443</td>\n",
       "    </tr>\n",
       "  </tbody>\n",
       "</table>\n",
       "</div>"
      ],
      "text/plain": [
       "                                           country        mean\n",
       "CountryLive                                                   \n",
       "United States of America  United States of America  130.639017\n",
       "Canada                                      Canada   93.065400\n",
       "India                                        India   81.812102\n",
       "United Kingdom                      United Kingdom   45.534443"
      ]
     },
     "execution_count": 101,
     "metadata": {},
     "output_type": "execute_result"
    }
   ],
   "source": [
    "top_4_O = count_per_monthO[(count_per_monthO['country']=='United States of America')|\n",
    "                        (count_per_monthO['country']=='India')|\n",
    "                        (count_per_monthO['country']=='United Kingdom')|\n",
    "                        (count_per_monthO['country']=='Canada')]\n",
    "top_4_O.sort_values(by='mean',ascending=False)"
   ]
  },
  {
   "cell_type": "markdown",
   "id": "2a93aa32",
   "metadata": {},
   "source": [
    "Now we see that after getting rid of the large outliers, that USA and Canada have the largest mean spending per month."
   ]
  },
  {
   "cell_type": "markdown",
   "id": "b1a78007",
   "metadata": {},
   "source": [
    "## Choosing the two best Markets\n",
    "Now, Lets finalize which two countries are the best for advertisement. One market we will definitely choose is the US, the second choice comes down to either Canada or India."
   ]
  },
  {
   "cell_type": "markdown",
   "id": "b4236912",
   "metadata": {},
   "source": [
    "#### Making new boxplot"
   ]
  },
  {
   "cell_type": "code",
   "execution_count": 103,
   "id": "e75b531a",
   "metadata": {},
   "outputs": [
    {
     "data": {
      "image/png": "[encoded data removed]",
      "text/plain": [
       "<Figure size 720x432 with 1 Axes>"
      ]
     },
     "metadata": {},
     "output_type": "display_data"
    }
   ],
   "source": [
    "CA2 = new_outlier[new_outlier['CountryLive']=='Canada']\n",
    "USA2 = new_outlier[new_outlier['CountryLive']=='United States of America']\n",
    "UK2 = new_outlier[new_outlier['CountryLive']=='United Kingdom']\n",
    "IND2 = new_outlier[new_outlier['CountryLive']=='India']\n",
    "\n",
    "plt.figure(figsize=(10, 6))\n",
    "\n",
    "data = [USA2['Monthly_spend'], IND2['Monthly_spend'], UK2['Monthly_spend'], CA2['Monthly_spend']]\n",
    "labels = ['United States of America', 'India', 'United Kingdom', 'Canada']\n",
    "\n",
    "plt.boxplot(data, labels=labels)\n",
    "\n",
    "plt.title('Monthly Spend by Country')\n",
    "plt.xlabel('Country')\n",
    "plt.ylabel('Monthly Spend')\n",
    "\n",
    "plt.show()"
   ]
  },
  {
   "cell_type": "markdown",
   "id": "22c82831",
   "metadata": {},
   "source": [
    "## Best two markets\n",
    "Since our subscription costs 59 dollars, our main choices are USA, India, and Canada. The UK is out of the picture since they preferrably spend 45 dollars which is less than our subscription. The difference between the mean of Canada and India is very small and they both are well above the 59 dollar price. For this reason the two countries chosen to be advertised to are:\n",
    "\n",
    "- United States of America\n",
    "- India\n",
    "\n",
    "While looking at the data, India has a lot of outlier customers compared to Canada which heavily increased their mean price. Even after getting rid of the outliers, even though Canada's mean price is higher, the difference isn't great enough for consideration.\n",
    "\n",
    "It is reasonable to split the budget so most of it caters towards the US. This is because in all scenarios. The US had a larger mean monthly spending."
   ]
  }
 ],
 "metadata": {
  "kernelspec": {
   "display_name": "Python 3 (ipykernel)",
   "language": "python",
   "name": "python3"
  },
  "language_info": {
   "codemirror_mode": {
    "name": "ipython",
    "version": 3
   },
   "file_extension": ".py",
   "mimetype": "text/x-python",
   "name": "python",
   "nbconvert_exporter": "python",
   "pygments_lexer": "ipython3",
   "version": "3.9.7"
  }
 },
 "nbformat": 4,
 "nbformat_minor": 5
}
